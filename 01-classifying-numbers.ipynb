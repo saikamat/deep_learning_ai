{
 "cells": [
  {
   "cell_type": "markdown",
   "metadata": {},
   "source": [
    "# Classification of Symbols\n",
    "\n",
    "\n",
    "- Torch is main pytorch module. \n",
    "- The `nn` module contains things like layer definitions, activations, loss functions etc.\n",
    "- The helper module `functional` provides almost same functionality as the `nn` module. Don't need to initialize object for activation function.\n",
    "- The `optim` module contains the hyper-optimizers\n",
    "- `torchvision` is the computer vision module of pytorch."
   ]
  },
  {
   "cell_type": "code",
   "execution_count": 2,
   "metadata": {},
   "outputs": [],
   "source": [
    "import torch.nn as nn\n",
    "import torch.nn.functional as F    \n",
    "import torch.optim as optim\n",
    "from torchvision import datasets, transforms"
   ]
  },
  {
   "cell_type": "markdown",
   "metadata": {},
   "source": [
    "## Define the model\n",
    "\n",
    "- In Pytorch, to define the neural network model, you have to define class e.g. `Net`. It has to inherit from the `nn` module.\n",
    "- Another way is sequential way => define what layers your NN has."
   ]
  },
  {
   "cell_type": "code",
   "execution_count": 5,
   "metadata": {},
   "outputs": [],
   "source": [
    "class Net(nn.Module):\n",
    "    def __init__(self):\n",
    "        super(Net, self).__init__()\n",
    "        \"\"\"\n",
    "        - We have 3 layers (500, 1000, 10). The last one is importance since we have 10 classes and we need 10 output neurons.\n",
    "        - The args contain  no. of input and output nodes. E.g. input node of first layer has 784 nodes. \n",
    "        - Why 784? Coz the MNIST dataset has 28x28 px images = 784\n",
    "        - Last layer is more specific, because we have 10 classes that we're trying to recognise.\n",
    "        - fc = fully connected\n",
    "        \"\"\"\n",
    "        self.fc1 = nn.Linear(784, 500)\n",
    "        self.fc2 = nn.Linear(500, 1000)\n",
    "        self.fc3 = nn.Linear(1000, 10)\n",
    "\n",
    "\n",
    "    \"\"\"\n",
    "    - In Pytorch, if you define forward pass through network, then it uses `autograd` library to automatically calculate the backward pass.\n",
    "    - it takes `x` vector or tensor as input.\n",
    "    - the vector is of size 784 at the beginning.\n",
    "    \"\"\"\n",
    "    def forward(self, x):\n",
    "        x = x.view(-1, 784)   # x.view(<batch-size>, 784)\n",
    "        x = F.relu(self.fc1(x))  # fc layer 1 is connected to input vector. And ReLU activation function is applied to it.\n",
    "        x = F.relu(self.fc2(x))  # do the same but for layer two.\n",
    "        x = self.fc3(x)          # don't apply AF here. Only Linear function\n",
    "\n",
    "        \"\"\"\n",
    "        - logarithmic softmax function applied here. Output of network isn't of size 10 where every value = probability\n",
    "        - softmax value which has highest probability.\n",
    "        \"\"\"\n",
    "        return F.log_softmax(x, dim=1)  "
   ]
  }
 ],
 "metadata": {
  "kernelspec": {
   "display_name": "llm_env",
   "language": "python",
   "name": "python3"
  },
  "language_info": {
   "codemirror_mode": {
    "name": "ipython",
    "version": 3
   },
   "file_extension": ".py",
   "mimetype": "text/x-python",
   "name": "python",
   "nbconvert_exporter": "python",
   "pygments_lexer": "ipython3",
   "version": "3.11.8"
  }
 },
 "nbformat": 4,
 "nbformat_minor": 2
}
