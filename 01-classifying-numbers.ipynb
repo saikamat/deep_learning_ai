{
 "cells": [
  {
   "cell_type": "markdown",
   "metadata": {},
   "source": [
    "# Classification of Symbols\n",
    "\n",
    "\n",
    "- Torch is main pytorch module. \n",
    "- The `nn` module contains things like layer definitions, activations, loss functions etc.\n",
    "- The helper module `functional` provides almost same functionality as the `nn` module. Don't need to initialize object for activation function.\n",
    "- The `optim` module contains the hyper-optimizers\n",
    "- `torchvision` is the computer vision module of pytorch."
   ]
  },
  {
   "cell_type": "code",
   "execution_count": 14,
   "metadata": {},
   "outputs": [],
   "source": [
    "import torch\n",
    "import torch.nn as nn\n",
    "import torch.nn.functional as F    \n",
    "import torch.optim as optim\n",
    "from torchvision import datasets, transforms"
   ]
  },
  {
   "cell_type": "markdown",
   "metadata": {},
   "source": [
    "## Define the model\n",
    "\n",
    "- In Pytorch, to define the neural network model, you have to define class e.g. `Net`. It has to inherit from the `nn` module.\n",
    "- Another way is sequential way => define what layers your NN has."
   ]
  },
  {
   "cell_type": "code",
   "execution_count": 3,
   "metadata": {},
   "outputs": [],
   "source": [
    "class Net(nn.Module):\n",
    "    def __init__(self):\n",
    "        super(Net, self).__init__()\n",
    "        \"\"\"\n",
    "        - We have 3 layers (500, 1000, 10). The last one is importance since we have 10 classes and we need 10 output neurons.\n",
    "        - The args contain  no. of input and output nodes. E.g. input node of first layer has 784 nodes. \n",
    "        - Why 784? Coz the MNIST dataset has 28x28 px images = 784\n",
    "        - Last layer is more specific, because we have 10 classes that we're trying to recognise.\n",
    "        - fc = fully connected\n",
    "        \"\"\"\n",
    "        self.fc1 = nn.Linear(784, 500)\n",
    "        self.fc2 = nn.Linear(500, 1000)\n",
    "        self.fc3 = nn.Linear(1000, 10)\n",
    "\n",
    "\n",
    "    \"\"\"\n",
    "    - In Pytorch, if you define forward pass through network, then it uses `autograd` library to automatically calculate the backward pass.\n",
    "    - it takes `x` vector or tensor as input.\n",
    "    - the vector is of size 784 at the beginning.\n",
    "    \"\"\"\n",
    "    def forward(self, x):\n",
    "        x = x.view(-1, 784)   # x.view(<batch-size>, 784). When batch-size = -1 => you don't care about the batch size.\n",
    "        \n",
    "        x = F.relu(self.fc1(x))  # fc layer 1 is connected to input vector. And ReLU activation function is applied to it.\n",
    "        x = F.relu(self.fc2(x))  # do the same but for layer two.\n",
    "        x = self.fc3(x)          # don't apply AF here. Only Linear function\n",
    "\n",
    "        \"\"\"\n",
    "        - logarithmic softmax function applied here. Output of network isn't of size 10 where every value = probability\n",
    "        - softmax value which has highest probability.\n",
    "        \"\"\"\n",
    "        return F.log_softmax(x, dim=1)  "
   ]
  },
  {
   "cell_type": "markdown",
   "metadata": {},
   "source": [
    "## Loading the data\n",
    "\n",
    "We use `DataLoader` and `DataSet` `torch` `util` classes"
   ]
  },
  {
   "cell_type": "code",
   "execution_count": 8,
   "metadata": {},
   "outputs": [],
   "source": [
    "train_loader = torch.utils.data.DataLoader(\n",
    "    datasets.MNIST('../data', \n",
    "                   train=True, # train parameter here decides whether the dataset is training or testing as per the boolean flag\n",
    "                   download=True, \n",
    "                   transform=transforms.Compose([\n",
    "                       transforms.ToTensor(), transforms.Normalize((0.1307,),(0.3081,))\n",
    "                    ])),\n",
    "                    batch_size=128, shuffle=True  # shuffle set as True to make results generic\n",
    "                )\n",
    "\n",
    "test_loader = torch.utils.data.DataLoader(\n",
    "    datasets.MNIST('../data', \n",
    "                   train=False, \n",
    "                   download=True, \n",
    "                   transform=transforms.Compose([\n",
    "                       transforms.ToTensor(), transforms.Normalize((0.1307,),(0.3081,))\n",
    "                    ])),\n",
    "                    batch_size=128, shuffle=True\n",
    "                )\n"
   ]
  },
  {
   "cell_type": "markdown",
   "metadata": {},
   "source": [
    "## Training and testing loops\n",
    "\n",
    "- Boiler plate code for training and testing.\n",
    "- Most ML Frameworks don't expose this part of code.\n",
    "- However since PyTorch framework is used for experimental research, you have full control over how a model is trained/tested."
   ]
  },
  {
   "cell_type": "code",
   "execution_count": 12,
   "metadata": {},
   "outputs": [],
   "source": [
    "\"\"\"\n",
    "the train() accepts the \n",
    "    neural network `model`, \n",
    "    the `device` on which to run it, \n",
    "    the `train_loader` training dataset, epoch and optimizer\n",
    "\"\"\"\n",
    "def train(model, device, train_loader, optimizer, epoch):\n",
    "    model.train()   # biases in the model can be changed.\n",
    "    for batch_idx, (data, target) in enumerate(train_loader):  # running with enum, coz wanna know batch index current loss\n",
    "        data, target = data.to(device), target.to(device)   # move data and target to the device e.g. graphics card. edge programming\n",
    "        optimizer.zero_grad()  # set up fresh calculations\n",
    "        output = model(data)   # running data through fwd pass and get output at current step\n",
    "        loss = F.nll_loss(output, target)  # loss at curr. step using negative log likelihood loss coz it works well for softmax output\n",
    "        loss.backward()    # PyTorch feature. By doing back-propagation through network, can be done automatically.\n",
    "        optimizer.step()   # changes the parameters in the network\n",
    "        if batch_idx%100 == 0:\n",
    "            # print every 100 batches\n",
    "            print('Train Epoch: {} [{}/{} ({:.0f}%)]\\tLoss: {:.6f}'.format(\n",
    "                epoch, batch_idx*len(data), len(train_loader.dataset), 100.*batch_idx/len(train_loader), loss.item()\n",
    "            ))"
   ]
  },
  {
   "cell_type": "code",
   "execution_count": 13,
   "metadata": {},
   "outputs": [],
   "source": [
    "def test(model, device, test_loader):\n",
    "    model.eval()   # model during eval mode will NOT change parameters\n",
    "    test_loss = 0\n",
    "    correct = 0    # we count how many test sets got correct\n",
    "    with torch.no_grad():  # speeds up the process. We tell don't remeber gradients so make faster processing\n",
    "        for data, target in test_loader:\n",
    "            data, target = data.to(device), target.to(device)\n",
    "            output = model(data)   # running the data through the model\n",
    "\n",
    "            # since we're testing in batch, we're interested in only sum of all losses in the batch\n",
    "            test_loss += F.nll_loss(output, target, reduction='sum').item()  \n",
    "            pred = output.argmax(dim=1, keepdim=True)   # get index of maxiumum o/p probability from the o/p vector\n",
    "\n",
    "            # count how many samples we got correct/incorrect. Compare the correct labels in batch and sum them up.\n",
    "            correct += pred.eq(target.view_as(pred)).sum().item()\n",
    "    test_loss /= len(test_loader.dataset)\n",
    "\n",
    "    print('\\nTest Set: Average Loss: {:.4f}, Accuracy: {}/{} ({:.0f}%)\\n'.format(\n",
    "        test_loss, correct, len(test_loader.dataset), 100.*correct/len(test_loader.dataset)\n",
    "    ))"
   ]
  },
  {
   "cell_type": "markdown",
   "metadata": {},
   "source": [
    "## Running the Model"
   ]
  },
  {
   "cell_type": "code",
   "execution_count": 17,
   "metadata": {},
   "outputs": [
    {
     "name": "stdout",
     "output_type": "stream",
     "text": [
      "Train Epoch: 1 [0/60000 (0%)]\tLoss: 2.299149\n",
      "Train Epoch: 1 [12800/60000 (21%)]\tLoss: 0.434354\n",
      "Train Epoch: 1 [25600/60000 (43%)]\tLoss: 0.288404\n",
      "Train Epoch: 1 [38400/60000 (64%)]\tLoss: 0.237406\n",
      "Train Epoch: 1 [51200/60000 (85%)]\tLoss: 0.229125\n",
      "\n",
      "Test Set: Average Loss: 0.1687, Accuracy: 9504/10000 (95%)\n",
      "\n",
      "Train Epoch: 2 [0/60000 (0%)]\tLoss: 0.117743\n",
      "Train Epoch: 2 [12800/60000 (21%)]\tLoss: 0.153799\n",
      "Train Epoch: 2 [25600/60000 (43%)]\tLoss: 0.088753\n",
      "Train Epoch: 2 [38400/60000 (64%)]\tLoss: 0.048535\n",
      "Train Epoch: 2 [51200/60000 (85%)]\tLoss: 0.125453\n",
      "\n",
      "Test Set: Average Loss: 0.1097, Accuracy: 9647/10000 (96%)\n",
      "\n",
      "Train Epoch: 3 [0/60000 (0%)]\tLoss: 0.168136\n",
      "Train Epoch: 3 [12800/60000 (21%)]\tLoss: 0.094888\n",
      "Train Epoch: 3 [25600/60000 (43%)]\tLoss: 0.057408\n",
      "Train Epoch: 3 [38400/60000 (64%)]\tLoss: 0.085881\n",
      "Train Epoch: 3 [51200/60000 (85%)]\tLoss: 0.055911\n",
      "\n",
      "Test Set: Average Loss: 0.0859, Accuracy: 9733/10000 (97%)\n",
      "\n"
     ]
    }
   ],
   "source": [
    "use_cuda = torch.cuda.is_available()\n",
    "\n",
    "torch.manual_seed(42) # for reproducible results, set random weight\n",
    "\n",
    "device = torch.device(\"cuda\" if use_cuda else \"mps\") # PyTorch added support for M1 GPU on May 2022\n",
    "\n",
    "model = Net().to(device)  # Move the model to the device.\n",
    "\"\"\"\n",
    "- We've to tell it what it is optimizing. \n",
    "- A helper method parameters() can be called in any neural network model in PyTorch\n",
    "- It calls all the params based on the fwd function.\n",
    "\"\"\"\n",
    "optimizer = optim.SGD(model.parameters(), lr=0.05, momentum=0.5) \n",
    "\n",
    "# test before training\n",
    "\n",
    "for epoch in range(1, 3+1):  # train for 3 epochs, and test after running each epoch.\n",
    "    train(model, device, train_loader, optimizer, epoch)\n",
    "    test(model, device, test_loader)\n",
    "\n",
    "torch.save(model.state_dict(), \"mnist.pt\")  # save the model to `mnist.pt`\n"
   ]
  },
  {
   "cell_type": "markdown",
   "metadata": {},
   "source": [
    "## Testing the Model"
   ]
  },
  {
   "cell_type": "code",
   "execution_count": 18,
   "metadata": {},
   "outputs": [
    {
     "data": {
      "text/plain": [
       "<matplotlib.image.AxesImage at 0x3142a2610>"
      ]
     },
     "execution_count": 18,
     "metadata": {},
     "output_type": "execute_result"
    },
    {
     "data": {
      "image/png": "[encoded data removed]",
      "text/plain": [
       "<Figure size 640x480 with 1 Axes>"
      ]
     },
     "metadata": {},
     "output_type": "display_data"
    }
   ],
   "source": [
    "import matplotlib.pyplot as plt\n",
    "\n",
    "test_image = test_loader.dataset.data[1200]\n",
    "plt.imshow(test_image, cmap='gray')"
   ]
  },
  {
   "cell_type": "code",
   "execution_count": 25,
   "metadata": {},
   "outputs": [
    {
     "data": {
      "text/plain": [
       "tensor([[-173.2375,  -63.7640, -233.0796,  -67.2465, -341.3364, -221.4524,\n",
       "         -284.8539, -358.5439,    0.0000, -290.2952]], device='mps:0',\n",
       "       grad_fn=<LogSoftmaxBackward0>)"
      ]
     },
     "execution_count": 25,
     "metadata": {},
     "output_type": "execute_result"
    }
   ],
   "source": [
    "# RUN THE IMAGE THROUGH MODEL\n",
    "#out = model(test_image.float().cuda()))  <--- for CUDA support\n",
    "out = model(test_image.float().to(torch.device('mps')))  # <--- for Mac M1 GPUs\n",
    "out"
   ]
  },
  {
   "cell_type": "markdown",
   "metadata": {},
   "source": [
    "in above output, all values in the 10 unit vector output are negative or zero except for the index value."
   ]
  },
  {
   "cell_type": "code",
   "execution_count": 24,
   "metadata": {},
   "outputs": [
    {
     "data": {
      "text/plain": [
       "tensor([8], device='mps:0')"
      ]
     },
     "execution_count": 24,
     "metadata": {},
     "output_type": "execute_result"
    }
   ],
   "source": [
    "out.argmax(dim=1)"
   ]
  }
 ],
 "metadata": {
  "kernelspec": {
   "display_name": "llm_env",
   "language": "python",
   "name": "python3"
  },
  "language_info": {
   "codemirror_mode": {
    "name": "ipython",
    "version": 3
   },
   "file_extension": ".py",
   "mimetype": "text/x-python",
   "name": "python",
   "nbconvert_exporter": "python",
   "pygments_lexer": "ipython3",
   "version": "3.11.8"
  }
 },
 "nbformat": 4,
 "nbformat_minor": 2
}
